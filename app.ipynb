{
 "cells": [
  {
   "cell_type": "code",
   "execution_count": null,
   "metadata": {},
   "outputs": [],
   "source": [
    "import datapane as dp\n",
    "dp.__rev__"
   ]
  },
  {
   "cell_type": "code",
   "execution_count": null,
   "metadata": {},
   "outputs": [],
   "source": [
    "def say_hello(params):\n",
    "    name = params[\"name\"]\n",
    "    return dp.View(dp.Text(f\"Hello, {name}!\"))"
   ]
  },
  {
   "cell_type": "code",
   "execution_count": null,
   "metadata": {},
   "outputs": [],
   "source": [
    "view = dp.View(dp.Group(\n",
    "    dp.Function(\n",
    "        say_hello,\n",
    "        target=\"result\",\n",
    "        controls=dp.Controls(\n",
    "            dp.TextBox(\"name\", label=\"Name\")\n",
    "        ),\n",
    "    ),\n",
    "    dp.Empty(name=\"result\"),\n",
    "    columns=2,\n",
    "))\n",
    "view"
   ]
  },
  {
   "cell_type": "code",
   "execution_count": null,
   "metadata": {},
   "outputs": [],
   "source": [
    "import os\n",
    "dp.serve(\n",
    "    view,\n",
    "    port=(\n",
    "        int(_port)\n",
    "        if (_port := os.environ.get(\"PORT\"))\n",
    "        else None\n",
    "    ),\n",
    "    host=\"0.0.0.0\",\n",
    ")"
   ]
  }
 ],
 "metadata": {
  "kernelspec": {
   "display_name": "dp-apps-hosted-examples",
   "language": "python",
   "name": "python3"
  },
  "language_info": {
   "codemirror_mode": {
    "name": "ipython",
    "version": 3
   },
   "file_extension": ".py",
   "mimetype": "text/x-python",
   "name": "python",
   "nbconvert_exporter": "python",
   "pygments_lexer": "ipython3",
   "version": "3.10.6"
  },
  "orig_nbformat": 4,
  "vscode": {
   "interpreter": {
    "hash": "b489cc0311981bc3b6164cd81bd853a43034a63631749cb1921d6cc75943a9fb"
   }
  }
 },
 "nbformat": 4,
 "nbformat_minor": 2
}
