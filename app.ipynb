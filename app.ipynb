{
 "cells": [
  {
   "cell_type": "code",
   "execution_count": null,
   "metadata": {},
   "outputs": [],
   "source": [
    "import datapane as dp\n",
    "dp.enable_logging()\n",
    "dp.client.log.setLevel(\"INFO\")\n",
    "dp.__rev__"
   ]
  },
  {
   "cell_type": "code",
   "execution_count": null,
   "metadata": {},
   "outputs": [],
   "source": [
    "import datetime as dt\n",
    "import humanize\n",
    "def since_now(d: dt.datetime | None) -> str:\n",
    "    if d is None:\n",
    "        return \"Never\"\n",
    "    return humanize.naturaldelta(dt.datetime.utcnow() - d)"
   ]
  },
  {
   "cell_type": "code",
   "execution_count": null,
   "metadata": {},
   "outputs": [],
   "source": [
    "from collections import Counter\n",
    "\n",
    "global_said_hello = Counter()\n",
    "\n",
    "message = \"\"\"\n",
    "# Hello, {name}!\n",
    "Your session started {session_age} ago\n",
    "\n",
    "## Your past visits\n",
    "{your_past_visits}\n",
    "\n",
    "## Others around\n",
    "{others_past_visits}\n",
    "\"\"\"\n",
    "\n",
    "def to_past_vists(c: Counter[str]) -> str:\n",
    "    return \"\\n\".join(f\"- {k} ({v})\" for k, v in c.most_common())\n",
    "\n",
    "def say_hello(params, session: dict):\n",
    "    name = params[\"foo\"]\n",
    "    session_age = session.setdefault(\"age\", dt.datetime.utcnow())\n",
    "    said_hello = session.setdefault(\"said_hello\", Counter())\n",
    "    global_said_hello.update([name])\n",
    "    said_hello.update([name])\n",
    "    return dp.View(\n",
    "        dp.Text(message.format(\n",
    "           name=name,\n",
    "           your_past_visits=to_past_vists(session[\"said_hello\"]),\n",
    "           others_past_visits=to_past_vists(global_said_hello),\n",
    "           session_age=since_now(session_age)\n",
    "        ))\n",
    "    )\n"
   ]
  },
  {
   "cell_type": "code",
   "execution_count": null,
   "metadata": {},
   "outputs": [],
   "source": [
    "import datetime as dt\n",
    "start_time = dt.datetime.utcnow()\n",
    "last_viewed = None\n",
    "\n",
    "\n",
    "def view():\n",
    "    global last_viewed\n",
    "    v = dp.View(\n",
    "        dp.Text(f\"## Booted: {since_now(start_time)} ago\"),\n",
    "        dp.Text(f\"## Last Viewed: {since_now(last_viewed)} ago\"),\n",
    "        dp.Group(\n",
    "            dp.Function(\n",
    "                say_hello,\n",
    "                target=\"result\",\n",
    "                controls=[\n",
    "                    dp.TextBox(name=\"foo\", label=\"Name\"),\n",
    "                ],\n",
    "                label=\"Say Hello!\",\n",
    "            ),\n",
    "            dp.Empty(name=\"result\"),\n",
    "            columns=2,\n",
    "        )\n",
    "    )\n",
    "    last_viewed = dt.datetime.utcnow()\n",
    "    return v"
   ]
  },
  {
   "cell_type": "code",
   "execution_count": null,
   "metadata": {},
   "outputs": [],
   "source": [
    "dp.serve(view)"
   ]
  }
 ],
 "metadata": {
  "kernelspec": {
   "display_name": "dp-apps-hosted-examples",
   "language": "python",
   "name": "python3"
  },
  "language_info": {
   "codemirror_mode": {
    "name": "ipython",
    "version": 3
   },
   "file_extension": ".py",
   "mimetype": "text/x-python",
   "name": "python",
   "nbconvert_exporter": "python",
   "pygments_lexer": "ipython3",
   "version": "3.10.6"
  },
  "orig_nbformat": 4,
  "vscode": {
   "interpreter": {
    "hash": "b489cc0311981bc3b6164cd81bd853a43034a63631749cb1921d6cc75943a9fb"
   }
  }
 },
 "nbformat": 4,
 "nbformat_minor": 2
}
